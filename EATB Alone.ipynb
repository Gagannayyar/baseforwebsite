{
 "cells": [
  {
   "cell_type": "code",
   "execution_count": 96,
   "metadata": {},
   "outputs": [
    {
     "name": "stdout",
     "output_type": "stream",
     "text": [
      "The process started at 2020-11-30 19:33:34.542710\n",
      "Please input month: October\n",
      "The suggestion for folders are \n",
      "['10_03_2020', '10_10_2020', '10_17_2020', '10_24_2020', '10_31_2020', 'EOM']\n",
      "Please paste one folder name from above: 10_03_2020\n",
      "WorkQueue Uploaded\n",
      "WorkQueue - Uploaded to SQL\n",
      "The task was completed in 115.42037642002106 minutes\n"
     ]
    }
   ],
   "source": [
    "\"\"\"This script is to update workqueue table in SQL for KPI Dashboard\"\"\"\n",
    "\n",
    "#Importing nessary libraries\n",
    "import os\n",
    "import datetime\n",
    "import shutil\n",
    "import sys\n",
    "import pandas as pd\n",
    "import time\n",
    "import numpy as np\n",
    "import calendar\n",
    "from calendar import monthrange\n",
    "import warnings\n",
    "warnings.filterwarnings(\"ignore\", message=\"numpy.dtype size changed\")\n",
    "warnings.filterwarnings(\"ignore\", message=\"numpy.ufunc size changed\")\n",
    "from importlib import reload\n",
    "import pyodbc\n",
    "import pandas as pd\n",
    "\n",
    "reload(sys)\n",
    "pd.options.mode.chained_assignment = None\n",
    "\n",
    "\n",
    "start = time.time()\n",
    "\n",
    "now = datetime.datetime.now()\n",
    "\n",
    "print(f\"The process started at {now}\")\n",
    "\n",
    "\n",
    "#This is the main folderpath\n",
    "folder = r'\\\\filesrvwhq\\PowerWorks_Ops\\Ambulatory Services\\Client and Team Folders\\0_New_Client_Folders'\n",
    "\n",
    "#getting the right month folder\n",
    "month_input = input(\"Please input month: \")\n",
    "month_namefin = month_input.title()\n",
    "month_name = month_input[0:3]\n",
    "datetime_object = datetime.datetime.strptime(month_name, \"%b\")\n",
    "month_number = datetime_object.month\n",
    "current_year = now.year\n",
    "first_date=\"01\"\n",
    "if month_number > 9:\n",
    "    month_number = str(month_number)\n",
    "    \n",
    "else:\n",
    "    month_number = \"0\"+str(month_number)\n",
    "month_date = (str(current_year)+\"-\"+month_number+\"-\"+first_date)\n",
    "real_date = datetime.datetime.strptime(month_date, \"%Y-%m-%d\")\n",
    "\n",
    "if real_date.weekday() < 5:\n",
    "    x = 5 - real_date.weekday()\n",
    "    x2 = int(first_date) + x\n",
    "    \n",
    "if real_date.weekday() == 5:\n",
    "    x2 = 1\n",
    "    \n",
    "else:\n",
    "    x = real_date.weekday() - 5\n",
    "    x2 = int(first_date) - x\n",
    "    \n",
    "week_staurday_list = list(range(x2,32,7))  \n",
    "week_folder_list = []\n",
    "for i in week_staurday_list:\n",
    "    if i > 9:\n",
    "        week_folder_list.append(month_number+\"_\"+str(i)+\"_\"+str(current_year))\n",
    "    else:\n",
    "        week_folder_list.append(month_number+\"_\"+\"0\"+str(i)+\"_\"+str(current_year))\n",
    "week_folder_list.append(\"EOM\")\n",
    "        \n",
    "        \n",
    "        \n",
    "print(f\"The suggestion for folders are \\n{week_folder_list}\")\n",
    "week_name = input(\"Please paste one folder name from above: \")\n",
    "current_year = str(2020)\n",
    "Last_day = monthrange(int(current_year), int(month_number))\n",
    "count_of_week = len(calendar.monthcalendar(int(current_year),int(month_number)))\n",
    "c = calendar.Calendar(firstweekday=calendar.SUNDAY)\n",
    "year = int(current_year); month = int(month_number)\n",
    "monthcal = c.monthdatescalendar(year,month)\n",
    "First_Saturday_Date = [day for week in monthcal for day in week if day.weekday() == calendar.SATURDAY and day.month == month][0]\n",
    "year, month, First_Saturday = str(First_Saturday_Date).split('-')\n",
    "\n",
    "\n",
    "#Getting the list of client folders\n",
    "list_of_folder = os.listdir(path=folder)\n",
    "\n",
    "#Creating folder with path list\n",
    "folderin_list = []\n",
    "for i in list_of_folder:\n",
    "    folderin = os.path.join(folder,i)\n",
    "    folderin_list.append(folderin)\n",
    "    \n",
    "client_list = ['Barnabas_BARN_HS', 'Escambia_ECHA_AL','Humboldt_HUMB_NV']\n",
    "    \n",
    "#Getting the desired client folders\n",
    "\n",
    "client_folder_list = []\n",
    "for i in folderin_list:\n",
    "    for j in client_list:\n",
    "        if j in i:\n",
    "            client_folder_list.append(i+\"\\\\\"+current_year+\"\\\\\"+month_number+\"_\"+str(month_input.title())+\"\\\\\"+week_name)\n",
    "\n",
    "            \n",
    "#Start and end date of the week\n",
    "start_day=1\n",
    "end_day=int(Last_day[1])            \n",
    "            \n",
    "#fucntion to remove pseudo files\n",
    "\n",
    "def remove_pseudo(x):\n",
    "    for i in x:\n",
    "        size = os.path.getsize(i)\n",
    "        if size < 2000:\n",
    "            x.remove(i)\n",
    "    return x\n",
    "\n",
    "\n",
    "#Getting the desired list of files\n",
    "if week_name != \"EOM\":\n",
    "    file_name = 'EATB Weekly'\n",
    "else:\n",
    "    file_name = 'EATB EOM'\n",
    "eatb_list = []\n",
    "for i in client_folder_list:\n",
    "        file_list = os.listdir(i)\n",
    "        for j in file_list:\n",
    "            if file_name in j:\n",
    "                eatb_list.append(i+'\\\\'+j)\n",
    "\n",
    "eatb = pd.DataFrame()\n",
    "\n",
    "for i in eatb_list:\n",
    "    df = pd.read_excel(i, sheet_name = \"Enhanced_ATB\")\n",
    "    df[\"Client\"] = i.split(\"\\\\\")[7]\n",
    "    eatb = eatb.append(df, ignore_index=True)\n",
    "    \n",
    "#defining a function for getting right column names\n",
    "\n",
    "\n",
    "#EATB\n",
    "\n",
    "#defining a function for getting right column names\n",
    "\n",
    "\n",
    "def column_check (column1,column2,data):\n",
    "    if column1 in data.columns:\n",
    "        return column1\n",
    "    else:\n",
    "        return column2\n",
    "\n",
    "facility_EATB = column_check('Patient Facility', 'Facility',eatb)\n",
    "\n",
    "Billing_Entity_EATB = column_check('Billing Entity Name', 'Billing Entity',eatb)\n",
    "\n",
    "\n",
    "if 'Current Financial Class' in eatb.columns:\n",
    "    atb_fin='Current Financial Class'\n",
    "else:\n",
    "    atb_fin= 'Responsible Financial Class'\n",
    "\n",
    "if 'Current Health Plan' in eatb.columns:\n",
    "    atb_plan='Current Health Plan'\n",
    "else:\n",
    "    atb_plan= 'Responsible Health Plan'\n",
    "\n",
    "\n",
    "\n",
    "if 'Encounter Balance' in eatb.columns:\n",
    "    Balance='Encounter Balance' \n",
    "else:\n",
    "    Balance= 'Balance Amount'\n",
    "\n",
    "#Converting the NaT pandas values to None type\n",
    "def remove_NaT(df):\n",
    "    for i in df:\n",
    "        for n,j in enumerate(i):\n",
    "            if j is pd.NaT:\n",
    "                i[n] = None\n",
    "\n",
    "remove_NaT(eatb)\n",
    "\n",
    "eatb = eatb[[Billing_Entity_EATB, facility_EATB, 'Discharge Aging Category','Discharge Aging Range',atb_fin,atb_plan,\n",
    "             'Insurance Balance', 'Balance Type', 'Balance Status', Balance, 'Billed Status','DNFB Status', 'Medical Service',\n",
    "             'Discharge Date','Activity Date','Self-Pay Balance','Unbilled Aging Category', 'Encounter Number',\n",
    "             'Encounter Last Touch Date',\n",
    "             'Client' ]]\n",
    "\n",
    "remove_NaT(eatb)\n",
    "\n",
    "eatb.reset_index(drop=True)\n",
    "eatb = eatb.to_numpy()\n",
    "print(\"EATB Uploaded\")\n",
    "\n",
    "\n",
    "\"\"\" Starting the SQL update using pyodbc library. The values in the tables are converted to numpy arrays so that the same can be appended using for loop into desired SQL Server\"\"\"\n",
    "\n",
    "\n",
    "#Connecting to SQL Server\n",
    "server_name = \"W1751904\\LOCAL_CERNER\"\n",
    "database_name = \"KPI Dashboard\"\n",
    "conn = pyodbc.connect(Driver='{SQL Server Native Client 11.0}',\n",
    "                      Server=server_name,\n",
    "                      Database=database_name,\n",
    "                      trusted_connection='yes')\n",
    "\n",
    " \n",
    "\n",
    "\n",
    "for i in eatb:\n",
    "    if(type(i[11])==float):\n",
    "        i[11]=\"NA\"  \n",
    "\n",
    "insert_eatb = \"\"\"INSERT INTO EATB ( [Billing Entity], [Facility],[Discharge Aging Category],[Discharge Aging Range],\n",
    "                    [Responsible Financial Class], [Responsible Health Plan],\n",
    "             [Insurance Balance], [Balance Type], \n",
    "             [Balance Status], [Balance Amount], [Billed Status], \n",
    "             [DNFB Status], [Medical Service], [Discharge Date],[Activity Date],\n",
    "             [Self-Pay Balance],[Unbilled Aging Category],[Encounter Number],[Encounter Last Touch Date],[Client]) \n",
    "             VALUES (?,?,?,?,?,?,?,?,?,?,?,?,?,?,?,?,?,?,?,?) \"\"\"\n",
    " \n",
    "remove_NaT(eatb)\n",
    "\n",
    " \n",
    "\n",
    "for row in eatb:\n",
    "    \n",
    "\n",
    "    values_eatb = (str(row[0]),str(row[1]),str(row[2]),str(row[3]),str(row[4]), str(row[5]),row[6],str(row[7]),str(row[8]),row[9],str(row[10]),row[11],str(row[12]),row[13],row[14],row[15],\n",
    "                  str(row[16]),str(row[17]),row[18],str(row[19]))\n",
    "    conn.execute(insert_eatb,values_eatb)\n",
    "                           \n",
    "\n",
    "\n",
    "conn.commit()\n",
    "print(\"EATB is uploaded to SQL Server\")  \n",
    "\n",
    "end = time.time()\n",
    "\n",
    "print(f\"The task was completed in {(end-start)/60} minutes\")"
   ]
  },
  {
   "cell_type": "code",
   "execution_count": 94,
   "metadata": {},
   "outputs": [
    {
     "data": {
      "text/plain": [
       "['Work Queue Weekly - WE 10.03.20 - Barnabas.xlsx',\n",
       " 'Work Queue Weekly - WE 10.03.20 - ECHA_AL.xlsx',\n",
       " 'Work Queue Weekly - WE 10.03.20 - HUMB_NV.xlsx']"
      ]
     },
     "execution_count": 94,
     "metadata": {},
     "output_type": "execute_result"
    }
   ],
   "source": [
    "workqueue_list"
   ]
  },
  {
   "cell_type": "code",
   "execution_count": 81,
   "metadata": {},
   "outputs": [],
   "source": []
  },
  {
   "cell_type": "code",
   "execution_count": 82,
   "metadata": {},
   "outputs": [
    {
     "data": {
      "text/plain": [
       "array([['Benewah Community Hospital',\n",
       "        'Alexander (RevVWx) BENEID, Vijay Charles', 'Client', ...,\n",
       "        'AARP HEALTHCARE OPTION', 'OP', 'Benewah'],\n",
       "       ['Benewah Community Hospital',\n",
       "        'Alexander (RevVWx) BENEID, Vijay Charles', 'Client', ...,\n",
       "        'MISC Commercial', 'Swingbed', 'Benewah'],\n",
       "       ['Benewah Community Hospital',\n",
       "        'Alexander (RevVWx) BENEID, Vijay Charles', 'Client', ...,\n",
       "        'MISC Commercial', 'Swingbed', 'Benewah'],\n",
       "       ...,\n",
       "       ['Benewah Community Hospital',\n",
       "        'Alexander (RevVWx) BENEID, Vijay Charles', 'Client', ...,\n",
       "        'REGENCE BLUESHIELD OF IDAHO', 'Recurring Outpatient', 'Benewah'],\n",
       "       ['Benewah Community Hospital', 'Minier,Lori', 'Client', ..., 0,\n",
       "        'Reference Lab', 'Benewah'],\n",
       "       ['Benewah Community Hospital', 'Thomas (RevWx) BENEID, Sanjana',\n",
       "        'Client', ..., 'MEDICAID OF IDAHO', 'Recurring Outpatient',\n",
       "        'Benewah']], dtype=object)"
      ]
     },
     "execution_count": 82,
     "metadata": {},
     "output_type": "execute_result"
    }
   ],
   "source": []
  },
  {
   "cell_type": "code",
   "execution_count": 83,
   "metadata": {},
   "outputs": [
    {
     "name": "stdout",
     "output_type": "stream",
     "text": [
      "WorkQueue - Uploaded to SQL\n"
     ]
    }
   ],
   "source": []
  },
  {
   "cell_type": "code",
   "execution_count": 71,
   "metadata": {},
   "outputs": [
    {
     "name": "stdout",
     "output_type": "stream",
     "text": [
      "0 Benewah Community Hospital\n",
      "1 Minier,Lori\n",
      "2 Client\n",
      "3 COVID 19 Statement Hold\n",
      "4 187789\n",
      "5 100.0\n",
      "6 2020-08-18 00:00:00\n",
      "7 2020-08-18 00:00:00\n",
      "8 31-60\n",
      "9 Benewah Hosp\n",
      "10 2020-10-04 00:00:00\n",
      "11 47\n",
      "12 31+ Days\n",
      "13 31-60 Days\n",
      "14 Debit\n",
      "15 nan\n",
      "16 None\n",
      "17 None\n",
      "18 Non Patient\n",
      "19 Benewah\n"
     ]
    }
   ],
   "source": []
  },
  {
   "cell_type": "code",
   "execution_count": 77,
   "metadata": {},
   "outputs": [
    {
     "name": "stdout",
     "output_type": "stream",
     "text": [
      "<class 'str'>\n",
      "<class 'str'>\n",
      "<class 'str'>\n",
      "<class 'str'>\n",
      "<class 'str'>\n",
      "<class 'float'>\n",
      "<class 'pandas._libs.tslibs.timestamps.Timestamp'>\n",
      "<class 'pandas._libs.tslibs.timestamps.Timestamp'>\n",
      "<class 'str'>\n",
      "<class 'str'>\n",
      "<class 'pandas._libs.tslibs.timestamps.Timestamp'>\n",
      "<class 'int'>\n",
      "<class 'str'>\n",
      "<class 'str'>\n",
      "<class 'str'>\n",
      "<class 'float'>\n",
      "<class 'str'>\n",
      "<class 'str'>\n",
      "<class 'str'>\n",
      "<class 'str'>\n"
     ]
    }
   ],
   "source": [
    "for i in workqueue[2]:\n",
    "    print(type(i))"
   ]
  },
  {
   "cell_type": "code",
   "execution_count": 78,
   "metadata": {},
   "outputs": [
    {
     "data": {
      "text/plain": [
       "array(['St. Maries Family Medicine',\n",
       "       'Alexander (RevVWx) BENEID, Vijay Charles', 'Client',\n",
       "       'Pending Reimbursement Claim', '192451', 156.01,\n",
       "       Timestamp('2020-10-01 00:00:00'), Timestamp('2020-10-01 00:00:00'),\n",
       "       '0-30', 'St. Maries Family Medicine',\n",
       "       Timestamp('2020-10-04 00:00:00'), 3, 'Less than 72 hours',\n",
       "       '0-7 Days', 'Debit', 156.01, 'Medicaid',\n",
       "       'MEDICAID FOR RURAL HEALTH', 'Clinic', 'Benewah'], dtype=object)"
      ]
     },
     "execution_count": 78,
     "metadata": {},
     "output_type": "execute_result"
    }
   ],
   "source": [
    "workqueue[3]"
   ]
  },
  {
   "cell_type": "code",
   "execution_count": 1,
   "metadata": {},
   "outputs": [],
   "source": [
    "import numpy as np"
   ]
  },
  {
   "cell_type": "code",
   "execution_count": 12,
   "metadata": {},
   "outputs": [],
   "source": [
    "new = np.array([[23,23],[24,24,25]])"
   ]
  },
  {
   "cell_type": "code",
   "execution_count": 13,
   "metadata": {},
   "outputs": [
    {
     "name": "stdout",
     "output_type": "stream",
     "text": [
      "[23, 23]\n",
      "[24, 24, 25]\n"
     ]
    }
   ],
   "source": [
    "for i in new:\n",
    "    print(i)\n"
   ]
  },
  {
   "cell_type": "code",
   "execution_count": null,
   "metadata": {},
   "outputs": [],
   "source": []
  }
 ],
 "metadata": {
  "kernelspec": {
   "display_name": "Python 3",
   "language": "python",
   "name": "python3"
  },
  "language_info": {
   "codemirror_mode": {
    "name": "ipython",
    "version": 3
   },
   "file_extension": ".py",
   "mimetype": "text/x-python",
   "name": "python",
   "nbconvert_exporter": "python",
   "pygments_lexer": "ipython3",
   "version": "3.7.6"
  }
 },
 "nbformat": 4,
 "nbformat_minor": 4
}
