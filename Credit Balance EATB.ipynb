{
 "cells": [
  {
   "cell_type": "code",
   "execution_count": 5,
   "metadata": {},
   "outputs": [
    {
     "name": "stdout",
     "output_type": "stream",
     "text": [
      "Please input month: july\n",
      "Please enter the week in mm_dd_yyyy format only or write EOM: 08_01_2020\n",
      "['\\\\\\\\filesrvwhq\\\\PowerWorks_Ops\\\\Ambulatory Services\\\\Client and Team Folders\\\\0_New_Client_Folders\\\\Barnabas_BARN_HS\\\\2020\\\\07_July\\\\EOM', '\\\\\\\\filesrvwhq\\\\PowerWorks_Ops\\\\Ambulatory Services\\\\Client and Team Folders\\\\0_New_Client_Folders\\\\Benewah_BENE_ID\\\\2020\\\\07_July\\\\EOM', '\\\\\\\\filesrvwhq\\\\PowerWorks_Ops\\\\Ambulatory Services\\\\Client and Team Folders\\\\0_New_Client_Folders\\\\Lawrence_LMH_KS\\\\2020\\\\07_July\\\\EOM', '\\\\\\\\filesrvwhq\\\\PowerWorks_Ops\\\\Ambulatory Services\\\\Client and Team Folders\\\\0_New_Client_Folders\\\\Maniilaq_MANQ_AK\\\\2020\\\\07_July\\\\EOM', '\\\\\\\\filesrvwhq\\\\PowerWorks_Ops\\\\Ambulatory Services\\\\Client and Team Folders\\\\0_New_Client_Folders\\\\Medicine_Lodge_MLMH_KS\\\\2020\\\\07_July\\\\EOM', '\\\\\\\\filesrvwhq\\\\PowerWorks_Ops\\\\Ambulatory Services\\\\Client and Team Folders\\\\0_New_Client_Folders\\\\Northern_Arizona_NAH_AZ\\\\2020\\\\07_July\\\\EOM', '\\\\\\\\filesrvwhq\\\\PowerWorks_Ops\\\\Ambulatory Services\\\\Client and Team Folders\\\\0_New_Client_Folders\\\\Uintah_Basin_UBMC_UT\\\\2020\\\\07_July\\\\EOM', '\\\\\\\\filesrvwhq\\\\PowerWorks_Ops\\\\Ambulatory Services\\\\Client and Team Folders\\\\0_New_Client_Folders\\\\Wray_Community_WCDH_CO\\\\2020\\\\07_July\\\\EOM']\n",
      "['\\\\\\\\filesrvwhq\\\\PowerWorks_Ops\\\\Ambulatory Services\\\\Client and Team Folders\\\\0_New_Client_Folders\\\\Barnabas_BARN_HS\\\\2020\\\\07_July\\\\EOM\\\\EATB EOM - July 2020 - Barnabas.xlsx', '\\\\\\\\filesrvwhq\\\\PowerWorks_Ops\\\\Ambulatory Services\\\\Client and Team Folders\\\\0_New_Client_Folders\\\\Benewah_BENE_ID\\\\2020\\\\07_July\\\\EOM\\\\EATB EOM - July 2020 - BENE_ID.xlsx', '\\\\\\\\filesrvwhq\\\\PowerWorks_Ops\\\\Ambulatory Services\\\\Client and Team Folders\\\\0_New_Client_Folders\\\\Benewah_BENE_ID\\\\2020\\\\07_July\\\\EOM\\\\~$EATB EOM - July 2020 - BENE_ID.xlsx', '\\\\\\\\filesrvwhq\\\\PowerWorks_Ops\\\\Ambulatory Services\\\\Client and Team Folders\\\\0_New_Client_Folders\\\\Lawrence_LMH_KS\\\\2020\\\\07_July\\\\EOM\\\\EATB EOM - July 2020 - LMH_KS.xlsx', '\\\\\\\\filesrvwhq\\\\PowerWorks_Ops\\\\Ambulatory Services\\\\Client and Team Folders\\\\0_New_Client_Folders\\\\Maniilaq_MANQ_AK\\\\2020\\\\07_July\\\\EOM\\\\EATB EOM - July 2020 - MANQ_AK.xlsx', '\\\\\\\\filesrvwhq\\\\PowerWorks_Ops\\\\Ambulatory Services\\\\Client and Team Folders\\\\0_New_Client_Folders\\\\Medicine_Lodge_MLMH_KS\\\\2020\\\\07_July\\\\EOM\\\\EATB EOM - July 2020 - MLMH_KS.xlsx', '\\\\\\\\filesrvwhq\\\\PowerWorks_Ops\\\\Ambulatory Services\\\\Client and Team Folders\\\\0_New_Client_Folders\\\\Northern_Arizona_NAH_AZ\\\\2020\\\\07_July\\\\EOM\\\\EATB EOM - July 2020 - NAH_AZ.xlsx', '\\\\\\\\filesrvwhq\\\\PowerWorks_Ops\\\\Ambulatory Services\\\\Client and Team Folders\\\\0_New_Client_Folders\\\\Uintah_Basin_UBMC_UT\\\\2020\\\\07_July\\\\EOM\\\\EATB EOM - July 2020 - UBMC_UT.xlsx', '\\\\\\\\filesrvwhq\\\\PowerWorks_Ops\\\\Ambulatory Services\\\\Client and Team Folders\\\\0_New_Client_Folders\\\\Uintah_Basin_UBMC_UT\\\\2020\\\\07_July\\\\EOM\\\\~$EATB EOM - July 2020 - UBMC_UT.xlsx', '\\\\\\\\filesrvwhq\\\\PowerWorks_Ops\\\\Ambulatory Services\\\\Client and Team Folders\\\\0_New_Client_Folders\\\\Wray_Community_WCDH_CO\\\\2020\\\\07_July\\\\EOM\\\\EATB EOM - July 2020 - WCDH_CO.xlsx']\n",
      "['\\\\\\\\filesrvwhq\\\\PowerWorks_Ops\\\\Ambulatory Services\\\\Client and Team Folders\\\\0_New_Client_Folders\\\\Barnabas_BARN_HS\\\\2020\\\\07_July\\\\EOM\\\\EATB EOM - July 2020 - Barnabas.xlsx', '\\\\\\\\filesrvwhq\\\\PowerWorks_Ops\\\\Ambulatory Services\\\\Client and Team Folders\\\\0_New_Client_Folders\\\\Benewah_BENE_ID\\\\2020\\\\07_July\\\\EOM\\\\EATB EOM - July 2020 - BENE_ID.xlsx', '\\\\\\\\filesrvwhq\\\\PowerWorks_Ops\\\\Ambulatory Services\\\\Client and Team Folders\\\\0_New_Client_Folders\\\\Lawrence_LMH_KS\\\\2020\\\\07_July\\\\EOM\\\\EATB EOM - July 2020 - LMH_KS.xlsx', '\\\\\\\\filesrvwhq\\\\PowerWorks_Ops\\\\Ambulatory Services\\\\Client and Team Folders\\\\0_New_Client_Folders\\\\Maniilaq_MANQ_AK\\\\2020\\\\07_July\\\\EOM\\\\EATB EOM - July 2020 - MANQ_AK.xlsx', '\\\\\\\\filesrvwhq\\\\PowerWorks_Ops\\\\Ambulatory Services\\\\Client and Team Folders\\\\0_New_Client_Folders\\\\Medicine_Lodge_MLMH_KS\\\\2020\\\\07_July\\\\EOM\\\\EATB EOM - July 2020 - MLMH_KS.xlsx', '\\\\\\\\filesrvwhq\\\\PowerWorks_Ops\\\\Ambulatory Services\\\\Client and Team Folders\\\\0_New_Client_Folders\\\\Northern_Arizona_NAH_AZ\\\\2020\\\\07_July\\\\EOM\\\\EATB EOM - July 2020 - NAH_AZ.xlsx', '\\\\\\\\filesrvwhq\\\\PowerWorks_Ops\\\\Ambulatory Services\\\\Client and Team Folders\\\\0_New_Client_Folders\\\\Uintah_Basin_UBMC_UT\\\\2020\\\\07_July\\\\EOM\\\\EATB EOM - July 2020 - UBMC_UT.xlsx', '\\\\\\\\filesrvwhq\\\\PowerWorks_Ops\\\\Ambulatory Services\\\\Client and Team Folders\\\\0_New_Client_Folders\\\\Wray_Community_WCDH_CO\\\\2020\\\\07_July\\\\EOM\\\\EATB EOM - July 2020 - WCDH_CO.xlsx']\n",
      "Copying completed 1 file\n",
      "Copying completed 2 file\n",
      "Copying completed 3 file\n",
      "Copying completed 4 file\n",
      "Copying completed 5 file\n",
      "Copying completed 6 file\n",
      "Copying completed 7 file\n",
      "Copying completed 8 file\n",
      "['C:\\\\Users\\\\GN082282\\\\OneDrive - Cerner Corporation\\\\Desktop\\\\EATB Credit Balance\\\\EATB EOM - July 2020 - Barnabas.xlsx', 'C:\\\\Users\\\\GN082282\\\\OneDrive - Cerner Corporation\\\\Desktop\\\\EATB Credit Balance\\\\EATB EOM - July 2020 - BENE_ID.xlsx', 'C:\\\\Users\\\\GN082282\\\\OneDrive - Cerner Corporation\\\\Desktop\\\\EATB Credit Balance\\\\EATB EOM - July 2020 - LMH_KS.xlsx', 'C:\\\\Users\\\\GN082282\\\\OneDrive - Cerner Corporation\\\\Desktop\\\\EATB Credit Balance\\\\EATB EOM - July 2020 - MANQ_AK.xlsx', 'C:\\\\Users\\\\GN082282\\\\OneDrive - Cerner Corporation\\\\Desktop\\\\EATB Credit Balance\\\\EATB EOM - July 2020 - MLMH_KS.xlsx', 'C:\\\\Users\\\\GN082282\\\\OneDrive - Cerner Corporation\\\\Desktop\\\\EATB Credit Balance\\\\EATB EOM - July 2020 - NAH_AZ.xlsx', 'C:\\\\Users\\\\GN082282\\\\OneDrive - Cerner Corporation\\\\Desktop\\\\EATB Credit Balance\\\\EATB EOM - July 2020 - UBMC_UT.xlsx', 'C:\\\\Users\\\\GN082282\\\\OneDrive - Cerner Corporation\\\\Desktop\\\\EATB Credit Balance\\\\EATB EOM - July 2020 - WCDH_CO.xlsx']\n",
      "1 file done\n",
      "2 files done\n",
      "3 files done\n",
      "4 files done\n",
      "5 files done\n",
      "6 files done\n",
      "7 files done\n",
      "8 files done\n",
      "Runtime of the program is 1999.3357689380646\n"
     ]
    }
   ],
   "source": [
    "\"\"\"This script takes the action code from all clients in productivity dashboard and returns a consolidated file\"\"\"\n",
    "\n",
    "#Importing nessary libraries\n",
    "import os\n",
    "import datetime\n",
    "import shutil\n",
    "import sys\n",
    "import pandas as pd\n",
    "import time\n",
    "import numpy as np\n",
    "start = time.time()\n",
    "\n",
    "#This is the main folderpath\n",
    "folder = r'\\\\filesrvwhq\\PowerWorks_Ops\\Ambulatory Services\\Client and Team Folders\\0_New_Client_Folders'\n",
    "\n",
    "#Getting the list of client folders\n",
    "list_of_folder = os.listdir(path=folder)\n",
    "\n",
    "#Creating folder with path list\n",
    "folderin_list = []\n",
    "for i in list_of_folder:\n",
    "    folderin = os.path.join(folder,i)\n",
    "    folderin_list.append(folderin)\n",
    "    \n",
    "\n",
    "    \n",
    "#Getting the list of the client of interest\n",
    "client= pd.read_excel(r'C:\\Users\\GN082282\\OneDrive - Cerner Corporation\\Desktop\\Credit Balance Client.xlsx')\n",
    "client_list = []\n",
    "for i in client['Client']:\n",
    "    client_list.append(i)\n",
    "    \n",
    "#ryemoving extra folder for Lawrense and   \n",
    "interest_list = []\n",
    "for i in folderin_list:\n",
    "    for j in client_list:\n",
    "        if j in i:\n",
    "            interest_list.append(i)\n",
    "            \n",
    "interest_list.remove('\\\\\\\\filesrvwhq\\\\PowerWorks_Ops\\\\Ambulatory Services\\\\Client and Team Folders\\\\0_New_Client_Folders\\\\Lawrence_LMH_KS_New_Domain')\n",
    "\n",
    "\n",
    "#Getting the year and month and week or EOM\n",
    "month_input = input(\"Please input month: \")\n",
    "month_namefin = month_input.title()\n",
    "month_name = month_input[0:3]\n",
    "datetime_object = datetime.datetime.strptime(month_name, \"%b\")\n",
    "month_number = datetime_object.month\n",
    "folder_month = '0'+str(month_number)+'_'+str(month_namefin)\n",
    "current_year = str(2020)\n",
    "week_name = input(\"Please enter the week in mm_dd_yyyy format only or write EOM: \")\n",
    "sheet_name = \"Enhanced_ATB\"\n",
    "\n",
    "#getting the detailed folder path\n",
    "main_path = \"\"\n",
    "main_path_list = []\n",
    "for i in interest_list:\n",
    "    main_path = i+'\\\\'+ current_year + '\\\\' + folder_month + '\\\\' + week_name\n",
    "    main_path_list.append(main_path)\n",
    "\n",
    "#Adding CHSI2 and CHSI5 as their folder structure if different in client path\n",
    "\n",
    "\n",
    "\n",
    "\n",
    "\n",
    "#Getting the path for Enahanced_ATB\n",
    "file_name = \"EATB EOM\"\n",
    "final_folder = \"\"\n",
    "eatb_filename = []\n",
    "for i in main_path_list:\n",
    "    file = os.listdir(i)\n",
    "    for j in file:\n",
    "        if file_name in j:\n",
    "            final_folder = i + '\\\\' + j\n",
    "            eatb_filename.append(final_folder)\n",
    "            \n",
    "\n",
    "\n",
    "#Removing file with size less than 1 kb\n",
    "size_list = []\n",
    "for i in actioncode_filename:\n",
    "    size = os.path.getsize(i)\n",
    "    if size < 1024:\n",
    "        actioncode_filename.remove(i)\n",
    "\n",
    "      \n",
    "\n",
    "\n",
    "    #Asking for the local path where the user want to save files\n",
    "\n",
    "local_path = r\"C:\\Users\\GN082282\\OneDrive - Cerner Corporation\\Desktop\\EATB Credit Balance\"\n",
    "\n",
    "#Copying the files\n",
    "num = 0\n",
    "for i in actioncode_filename:\n",
    "    shutil.copy(r\"{}\".format(i), r\"{}\".format(local_path))\n",
    "    num += 1\n",
    "    print(\"Copying completed \"+str(num)+ \" file\")\n",
    "    \n",
    "    \n",
    "#Getting the list of action code files\n",
    "list_acfile = os.listdir(path=local_path)\n",
    "\n",
    "#adding the path\n",
    "with_path_list = []\n",
    "for i in range(0,len(list_acfile)):\n",
    "    with_path_list.append(local_path+'\\\\'+list_acfile[i])\n",
    "\n",
    "    \n",
    "\n",
    "\n",
    "#Removing some information and adding new file  \n",
    "n = 0\n",
    "for i in range(0,len(with_path_list)):\n",
    "    df = pd.read_excel(with_path_list[i], sheet_name = sheet_name)\n",
    "    os.remove(with_path_list[i])\n",
    "    df = df[df['Encounter Balance'] < 0]\n",
    "    df.to_excel(local_path+'\\\\'+list_acfile[i], index = False)\n",
    "    n += 1\n",
    "    if n == 1:\n",
    "        print(f\"{n} file done\" )\n",
    "    else:\n",
    "        print(f\"{n} files done\")\n",
    "        \n",
    "        \n",
    "end = time.time()\n",
    "\n",
    "\n",
    "print(f\"Runtime of the program is {end - start}\")\n",
    "        \n"
   ]
  },
  {
   "cell_type": "code",
   "execution_count": 6,
   "metadata": {},
   "outputs": [
    {
     "data": {
      "text/plain": [
       "33.31666666666667"
      ]
     },
     "execution_count": 6,
     "metadata": {},
     "output_type": "execute_result"
    }
   ],
   "source": [
    "1999/60\n"
   ]
  },
  {
   "cell_type": "code",
   "execution_count": 3,
   "metadata": {},
   "outputs": [],
   "source": [
    "df = pd.read_excel(r'C:\\Users\\GN082282\\OneDrive - Cerner Corporation\\Desktop\\EATB Credit Balance\\EATB EOM - July 2020 - LMH_KS.xlsx')"
   ]
  },
  {
   "cell_type": "code",
   "execution_count": 3,
   "metadata": {},
   "outputs": [
    {
     "ename": "NameError",
     "evalue": "name 'df' is not defined",
     "output_type": "error",
     "traceback": [
      "\u001b[1;31m---------------------------------------------------------------------------\u001b[0m",
      "\u001b[1;31mNameError\u001b[0m                                 Traceback (most recent call last)",
      "\u001b[1;32m<ipython-input-3-ea942bf769f0>\u001b[0m in \u001b[0;36m<module>\u001b[1;34m\u001b[0m\n\u001b[1;32m----> 1\u001b[1;33m \u001b[0mdf\u001b[0m\u001b[1;33m.\u001b[0m\u001b[0mcolumns\u001b[0m\u001b[1;33m(\u001b[0m\u001b[1;33m)\u001b[0m\u001b[1;33m\u001b[0m\u001b[1;33m\u001b[0m\u001b[0m\n\u001b[0m",
      "\u001b[1;31mNameError\u001b[0m: name 'df' is not defined"
     ]
    }
   ],
   "source": [
    "df.columns()"
   ]
  },
  {
   "cell_type": "code",
   "execution_count": null,
   "metadata": {},
   "outputs": [],
   "source": []
  }
 ],
 "metadata": {
  "kernelspec": {
   "display_name": "Python 3",
   "language": "python",
   "name": "python3"
  },
  "language_info": {
   "codemirror_mode": {
    "name": "ipython",
    "version": 3
   },
   "file_extension": ".py",
   "mimetype": "text/x-python",
   "name": "python",
   "nbconvert_exporter": "python",
   "pygments_lexer": "ipython3",
   "version": "3.7.6"
  }
 },
 "nbformat": 4,
 "nbformat_minor": 4
}
