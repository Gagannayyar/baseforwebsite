{
 "cells": [
  {
   "cell_type": "code",
   "execution_count": 34,
   "metadata": {},
   "outputs": [
    {
     "name": "stdout",
     "output_type": "stream",
     "text": [
      "The process started at 2020-12-21 21:11:39.668965\n"
     ]
    },
    {
     "ename": "NameError",
     "evalue": "name 'all_data_fil' is not defined",
     "output_type": "error",
     "traceback": [
      "\u001b[1;31m---------------------------------------------------------------------------\u001b[0m",
      "\u001b[1;31mNameError\u001b[0m                                 Traceback (most recent call last)",
      "\u001b[1;32m<ipython-input-34-492ab44dc074>\u001b[0m in \u001b[0;36m<module>\u001b[1;34m\u001b[0m\n\u001b[0;32m     88\u001b[0m \u001b[1;33m\u001b[0m\u001b[0m\n\u001b[0;32m     89\u001b[0m \u001b[1;33m\u001b[0m\u001b[0m\n\u001b[1;32m---> 90\u001b[1;33m \u001b[1;32mfor\u001b[0m \u001b[0mrow\u001b[0m \u001b[1;32min\u001b[0m \u001b[0mall_data_fil\u001b[0m\u001b[1;33m:\u001b[0m\u001b[1;33m\u001b[0m\u001b[1;33m\u001b[0m\u001b[0m\n\u001b[0m\u001b[0;32m     91\u001b[0m     values = (row[0],str(row[1]),str(row[2]),str(row[3]),row[4],str(row[5]),row[6],str(row[7]),row[8],str(row[9]),\n\u001b[0;32m     92\u001b[0m               str(row[10]),str(row[11]),str(row[12]),str(row[13]),str(row[14]),row[15],str(row[16]),row[17],row[18])\n",
      "\u001b[1;31mNameError\u001b[0m: name 'all_data_fil' is not defined"
     ]
    }
   ],
   "source": [
    "\"\"\"\n",
    "Importing eatb(workables and non workables) files to SQL from a desired folder\n",
    "\"\"\"\n",
    "import pandas as pd\n",
    "import numpy as np\n",
    "import time\n",
    "import datetime\n",
    "import os\n",
    "import pyodbc\n",
    "\n",
    "start = time.time()\n",
    "\n",
    "print(f\"The process started at {datetime.datetime.now()}\")\n",
    "\n",
    "#Getting the list of file\n",
    "\n",
    "main_folder = r\"C:\\Users\\GN082282\\OneDrive - Cerner Corporation\\Desktop\\Test\"\n",
    "\n",
    "list_of_files = os.listdir(path=main_folder)\n",
    "\n",
    "#Adding folders\n",
    "list_of_ffile = []\n",
    "for i in list_of_files:\n",
    "    list_of_ffile.append(os.path.join(main_folder,i))\n",
    "    \n",
    "    \n",
    "#Importing file to dataframe\n",
    "\n",
    "all_data = pd.DataFrame()\n",
    "\n",
    "for i in list_of_ffile:\n",
    "    df = pd.read_excel(i)\n",
    "    all_data = all_data.append(df, ignore_index=True)\n",
    "\n",
    "#Changing the column names and getting the desired columns\n",
    "\n",
    "new_col_list = ['Billing Entity', 'Encounter Number','Discharge Date',\n",
    "                'Insurance Balance', 'Encounter Balance', \n",
    "                'DNFB Status','DNFB Reason', 'Discharge Aging Category',\n",
    "                'Discharge Aging Range','Created Date',\n",
    "                'Activity Date', 'Balance Type 1', 'Category', 'FBD Aging',\n",
    "                'LBD Aging', 'DOS Aging Bucket',\n",
    "                'Worked in last 15 days Bucket',\n",
    "                'Final Status', 'Status']        \n",
    "all_data = all_data[new_col_list]\n",
    "all_data.to_excel(r\"C:\\Users\\GN082282\\OneDrive - Cerner Corporation\\Desktop\\Team Related\\CPID Project\\Test.xlsx\", index=False)\n",
    "all_data.to_numpy()\n",
    "\n",
    "\"\"\" \n",
    "Starting the SQL update using pyodbc library. The values in the tables are \n",
    "converted to numpy arrays so that the same can be appended using for loop into desired SQL Server\n",
    "\"\"\"\n",
    "\n",
    "#Converting the NaT pandas values to None type\n",
    "def remove_NaT():\n",
    "    for i in all_data:\n",
    "        for n,j in enumerate(i):\n",
    "            if j is pd.NaT:\n",
    "                i[n] = None\n",
    "                \n",
    "                \n",
    "    return all_data\n",
    "\n",
    "\n",
    "\n",
    "#Connecting to SQL Server\n",
    "server_name = \"W1751904\\LOCAL_CERNER\"\n",
    "database_name = \"Test_Productivity_Dashboard\"\n",
    "conn = pyodbc.connect(Driver='{SQL Server Native Client 11.0}',\n",
    "                      Server=server_name,\n",
    "                      Database=database_name,\n",
    "                      trusted_connection='yes')\n",
    "\n",
    "\n",
    "cursor = conn.cursor()\n",
    "\n",
    "\n",
    "#Uploading in SQL Action Code table\n",
    "insert_query = \"\"\"INSERT INTO EATB_Modified (['Billing Entity'], ['Encounter Number'],['Discharge Date'],\n",
    "                                             ['Insurance Balance'], ['Encounter Balance'], \n",
    "                                             ['DNFB Status'],['DNFB Reason'], ['Discharge Aging Category'],\n",
    "                                             ['Discharge Aging Range'],['Created Date'],\n",
    "                                             ['Activity Date'], ['Balance Type 1'], ['Category'], ['FBD Aging'],\n",
    "                                             ['LBD Aging'], ['DOS Aging Bucket'],\n",
    "                                             ['Worked in last 15 days Bucket'],['Final Status'], ['Status']) \n",
    "                                             VALUES(?,?,?,?,?,?,?,?,?,?,?,?,?,?,?,?,?,?,?)\n",
    "                \"\"\"\n",
    "\n",
    "\n",
    "for row in all_data_fil:\n",
    "    values = (row[0],str(row[1]),str(row[2]),str(row[3]),row[4],str(row[5]),row[6],str(row[7]),row[8],str(row[9]),\n",
    "              str(row[10]),str(row[11]),str(row[12]),str(row[13]),str(row[14]),row[15],str(row[16]),row[17],row[18])\n",
    "    cursor.execute(insert_query,values)\n",
    "\n",
    "conn.commit()\n",
    "print(\"EATB uploaded to SQL Server\")\n",
    "\n",
    "#all_data_fil.to_excel(local_path+\"\\\\\"+list_of_folder[0]+\".xlsx\", index=False)\n",
    "#print(f\"File saved to {local_path}\")\n",
    "\n",
    "total_time = time.time()\n",
    "print(f\"The total time taken for the entire process was {round((total_time - start)/60)} minutes\")\n",
    "    \n",
    "    "
   ]
  },
  {
   "cell_type": "code",
   "execution_count": 26,
   "metadata": {},
   "outputs": [],
   "source": [
    "all_data.to_excel(r\"C:\\Users\\GN082282\\OneDrive - Cerner Corporation\\Desktop\\Team Related\\CPID Project\\Test.xlsx\", index=False)"
   ]
  },
  {
   "cell_type": "code",
   "execution_count": null,
   "metadata": {},
   "outputs": [],
   "source": []
  },
  {
   "cell_type": "code",
   "execution_count": 22,
   "metadata": {},
   "outputs": [],
   "source": [
    "new_col_list = ['Billing Entity', 'Encounter Number','Discharge Date',\n",
    "                'Insurance Balance', 'Encounter Balance', \n",
    "                'DNFB Status','DNFB Reason', 'Discharge Aging Category',\n",
    "                'Discharge Aging Range','Created Date',\n",
    "                'Activity Date', 'Balance Type 1', 'Category', 'FBD Aging',\n",
    "                'LBD Aging', 'DOS Aging Bucket',\n",
    "                'Worked in last 15 days Bucket',\n",
    "                'Final Status', 'Status']"
   ]
  },
  {
   "cell_type": "code",
   "execution_count": 23,
   "metadata": {},
   "outputs": [],
   "source": [
    "all_data_cols = all_data[new_col_list]\n",
    "all_data_cols.reset_index(inplace=True, drop=True)"
   ]
  },
  {
   "cell_type": "code",
   "execution_count": 32,
   "metadata": {},
   "outputs": [],
   "source": [
    "row = []\n",
    "for i in range(0,19):\n",
    "    row.append(f\"row[{i}]\")"
   ]
  },
  {
   "cell_type": "code",
   "execution_count": 33,
   "metadata": {},
   "outputs": [
    {
     "data": {
      "text/plain": [
       "['row[0]',\n",
       " 'row[1]',\n",
       " 'row[2]',\n",
       " 'row[3]',\n",
       " 'row[4]',\n",
       " 'row[5]',\n",
       " 'row[6]',\n",
       " 'row[7]',\n",
       " 'row[8]',\n",
       " 'row[9]',\n",
       " 'row[10]',\n",
       " 'row[11]',\n",
       " 'row[12]',\n",
       " 'row[13]',\n",
       " 'row[14]',\n",
       " 'row[15]',\n",
       " 'row[16]',\n",
       " 'row[17]',\n",
       " 'row[18]']"
      ]
     },
     "execution_count": 33,
     "metadata": {},
     "output_type": "execute_result"
    }
   ],
   "source": [
    "row"
   ]
  },
  {
   "cell_type": "code",
   "execution_count": null,
   "metadata": {},
   "outputs": [],
   "source": []
  }
 ],
 "metadata": {
  "kernelspec": {
   "display_name": "Python 3",
   "language": "python",
   "name": "python3"
  },
  "language_info": {
   "codemirror_mode": {
    "name": "ipython",
    "version": 3
   },
   "file_extension": ".py",
   "mimetype": "text/x-python",
   "name": "python",
   "nbconvert_exporter": "python",
   "pygments_lexer": "ipython3",
   "version": "3.7.6"
  }
 },
 "nbformat": 4,
 "nbformat_minor": 4
}
